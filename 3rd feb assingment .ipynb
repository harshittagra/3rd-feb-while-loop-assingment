{
 "cells": [
  {
   "cell_type": "markdown",
   "id": "c21f6ca7-c67c-4930-9f7d-6fdabca5ce13",
   "metadata": {},
   "source": [
    "Q1. Which keyword is used to create a function? Create a function to return a list of odd numbers in the\n",
    "range of 1 to 25."
   ]
  },
  {
   "cell_type": "markdown",
   "id": "b3c14b41-b403-4d34-a388-5c4d9de6674d",
   "metadata": {},
   "source": [
    "SOL : - def keyword is used to create a function ."
   ]
  },
  {
   "cell_type": "code",
   "execution_count": 6,
   "id": "e45d29a4-dca6-4a92-8bb4-81ffb2c3b68c",
   "metadata": {},
   "outputs": [],
   "source": [
    "l=list(range(1,26))"
   ]
  },
  {
   "cell_type": "code",
   "execution_count": 7,
   "id": "3e8ea422-1b3d-481f-a63e-eadaa0d687bf",
   "metadata": {},
   "outputs": [],
   "source": [
    "def test1(l):\n",
    "    l1 = []    \n",
    "    for i in l:\n",
    "        if i % 2 !=0:\n",
    "            l1.append(i)\n",
    "    return l1"
   ]
  },
  {
   "cell_type": "code",
   "execution_count": 8,
   "id": "f6b34393-0132-426d-a6cd-60b670eaaa3b",
   "metadata": {},
   "outputs": [
    {
     "data": {
      "text/plain": [
       "[1, 3, 5, 7, 9, 11, 13, 15, 17, 19, 21, 23, 25]"
      ]
     },
     "execution_count": 8,
     "metadata": {},
     "output_type": "execute_result"
    }
   ],
   "source": [
    "test1(l)"
   ]
  },
  {
   "cell_type": "markdown",
   "id": "6887d87b-87c1-405a-bec7-cd55dcd359b8",
   "metadata": {},
   "source": [
    "Q2. Why *args and **kwargs is used in some functions? Create a function each for *args and **kwargs\n",
    "to demonstrate their use."
   ]
  },
  {
   "cell_type": "markdown",
   "id": "ccf080eb-03fc-42c6-84a9-4ec81d345669",
   "metadata": {},
   "source": [
    "SOL :- \n",
    "\n",
    "--> firstly tell about the mean of the star( * ) is that n number of the argument can pass inside the function and passed data is stored as tuple.\n",
    "--> args is just a convension. we can use any convention that we want.\n",
    "*args allows us to pass a variable number of non-keyword arguments to a Python function. Non- keyword means that they can be number and string .\n"
   ]
  },
  {
   "cell_type": "code",
   "execution_count": 9,
   "id": "eb171b46-4a99-433f-9c00-c2746951db0e",
   "metadata": {},
   "outputs": [],
   "source": [
    "def test2(*args,b=25) :\n",
    "    return args , b"
   ]
  },
  {
   "cell_type": "code",
   "execution_count": 10,
   "id": "b245230b-6246-45be-ace7-fbb6243919c6",
   "metadata": {},
   "outputs": [
    {
     "data": {
      "text/plain": [
       "(('harshit', 29, 'hi'), 25)"
      ]
     },
     "execution_count": 10,
     "metadata": {},
     "output_type": "execute_result"
    }
   ],
   "source": [
    "test2(\"harshit\",29,\"hi\")"
   ]
  },
  {
   "cell_type": "markdown",
   "id": "40f7e4e3-59a6-4fe7-857e-0dedcb36366d",
   "metadata": {},
   "source": [
    "**kwargs allows us to pass a variable number of keyword arguments to a Python function.\n",
    "--> Keyword arguments mean that they contain a key-value pair, like a Python dictionary."
   ]
  },
  {
   "cell_type": "code",
   "execution_count": 11,
   "id": "d035deb9-30d6-486e-8e9a-9c9abac28865",
   "metadata": {},
   "outputs": [],
   "source": [
    "def fullname(**name):\n",
    "    word=\"\"\n",
    "    for i in name.values():\n",
    "        word = word+i\n",
    "    return word    \n",
    "    \n",
    "    "
   ]
  },
  {
   "cell_type": "code",
   "execution_count": 12,
   "id": "2b125009-bd4e-4471-88be-e5116bb13c22",
   "metadata": {},
   "outputs": [
    {
     "data": {
      "text/plain": [
       "'Harshit Tagra'"
      ]
     },
     "execution_count": 12,
     "metadata": {},
     "output_type": "execute_result"
    }
   ],
   "source": [
    "fullname(a = \"Harshit\" , b = \" Tagra\")"
   ]
  },
  {
   "cell_type": "markdown",
   "id": "9651a1f8-c50c-4e46-85bf-43d4db380ec3",
   "metadata": {},
   "source": [
    "Q3. What is an iterator in python? Name the method used to initialise the iterator object and the method\n",
    "used for iteration. Use these methods to print the first five elements of the given list [2, 4, 6, 8, 10, 12, 14,\n",
    "16, 18, 20]."
   ]
  },
  {
   "cell_type": "markdown",
   "id": "a2cbd796-7aa1-4d93-bb56-cd4958382353",
   "metadata": {},
   "source": [
    "SOL :-\n",
    " Simply with the help of iterator in python we can find the data next to data using next function .\n",
    "you can simply use next() command or type() command to check whether it is iterator or not . if object is iterable object then we can \n",
    "convert it into iterate by passing through iter() function example :string , list are iterable so we can make them iterate \n",
    "but integer,floating no are non iterable so they can not be converted to iterate . "
   ]
  },
  {
   "cell_type": "code",
   "execution_count": 13,
   "id": "8aac064d-55a2-4529-b6f0-928fafff6b1b",
   "metadata": {},
   "outputs": [],
   "source": [
    "l2 = [2,4,6,8,10,12,14,16,18,20]"
   ]
  },
  {
   "cell_type": "code",
   "execution_count": 14,
   "id": "fde82497-5b89-4ce8-89c8-77f20046a657",
   "metadata": {},
   "outputs": [],
   "source": [
    "l3 = iter(l2)"
   ]
  },
  {
   "cell_type": "code",
   "execution_count": 15,
   "id": "24fa54df-998c-4ec2-ac81-20a4578c3e65",
   "metadata": {},
   "outputs": [
    {
     "name": "stdout",
     "output_type": "stream",
     "text": [
      "2\n",
      "4\n",
      "6\n",
      "8\n",
      "10\n"
     ]
    }
   ],
   "source": [
    "for i in l3:\n",
    "    if i<=10:\n",
    "        print(i)\n",
    "    \n",
    "    "
   ]
  },
  {
   "cell_type": "markdown",
   "id": "803c9af6-0d44-40fd-b453-277418218462",
   "metadata": {},
   "source": [
    "Q4. What is a generator function in python? Why yield keyword is used? Give an example of a generator\n",
    "function."
   ]
  },
  {
   "cell_type": "markdown",
   "id": "fe3b38cc-27c8-4670-9d3e-4585bb546025",
   "metadata": {},
   "source": [
    "SOL : - A generator function in Python is a special type of function that allows you to generate a sequence of values on-the-fly,\n",
    "using the \"yield\" keyword instead of \"return\". When you call a generator function, \n",
    "it returns a generator object that you can iterate over to produce a sequence of values one at a time.\n",
    "The \"yield\" keyword is used to specify the value that should be returned from the generator function each time it is called. \n",
    "When the generator is iterated over, the function will execute until it reaches a yield statement,\n",
    "at which point it will return the specified value and pause execution"
   ]
  },
  {
   "cell_type": "code",
   "execution_count": 16,
   "id": "d4128c10-efd4-460b-adb8-3b8927cd8ff0",
   "metadata": {},
   "outputs": [],
   "source": [
    "def cube(n):\n",
    "    for i in range(n):\n",
    "        yield i**3\n",
    "        \n",
    "        "
   ]
  },
  {
   "cell_type": "code",
   "execution_count": 17,
   "id": "2965bdce-ac66-4f9c-91af-dc19130c5074",
   "metadata": {},
   "outputs": [],
   "source": [
    "m = cube(10)"
   ]
  },
  {
   "cell_type": "code",
   "execution_count": 18,
   "id": "69e8d487-6340-4082-a7b4-64143f07f5ba",
   "metadata": {},
   "outputs": [
    {
     "name": "stdout",
     "output_type": "stream",
     "text": [
      "0\n",
      "1\n",
      "8\n",
      "27\n",
      "64\n",
      "125\n",
      "216\n",
      "343\n",
      "512\n",
      "729\n"
     ]
    }
   ],
   "source": [
    "for i in m :\n",
    "    print(i)"
   ]
  },
  {
   "cell_type": "markdown",
   "id": "6d8baca8-3fa2-4b21-b91b-e86ef21e1e37",
   "metadata": {},
   "source": [
    "Q5. Create a generator function for prime numbers less than 1000. Use the next() method to print the\n",
    "first 20 prime numbers."
   ]
  },
  {
   "cell_type": "code",
   "execution_count": 1,
   "id": "dbbb5ff0-3f08-4a46-844d-f6d0887de323",
   "metadata": {},
   "outputs": [],
   "source": [
    "def prime_no(n):\n",
    "\n",
    "    for i in range(2,n):\n",
    "        flag=0\n",
    "        for j in range(2,i) :\n",
    "            if(i%j ==0 ) :\n",
    "                flag=1\n",
    "                break\n",
    "        if flag==0 :\n",
    "            yield i  \n",
    "            \n",
    "            \n",
    "            \n",
    "            "
   ]
  },
  {
   "cell_type": "code",
   "execution_count": 2,
   "id": "77ab90ce-9d5d-439c-8fef-126d5604d6bc",
   "metadata": {},
   "outputs": [],
   "source": [
    "num = prime_no(1000)"
   ]
  },
  {
   "cell_type": "code",
   "execution_count": 4,
   "id": "d78b66dd-eb19-4435-80b3-9a5892478dd7",
   "metadata": {},
   "outputs": [
    {
     "name": "stdout",
     "output_type": "stream",
     "text": [
      "2\n",
      "3\n",
      "5\n",
      "7\n",
      "11\n",
      "13\n",
      "17\n",
      "19\n",
      "23\n",
      "29\n",
      "31\n",
      "37\n",
      "41\n",
      "43\n",
      "47\n",
      "53\n",
      "59\n",
      "61\n",
      "67\n",
      "71\n"
     ]
    }
   ],
   "source": [
    "for i in range(20):\n",
    "    print(next(num))"
   ]
  },
  {
   "cell_type": "code",
   "execution_count": null,
   "id": "d55ab6af-cc68-4b7d-b9ec-58f154764faf",
   "metadata": {},
   "outputs": [],
   "source": []
  },
  {
   "cell_type": "markdown",
   "id": "8b6e888f-9497-4384-ba67-efe5179065f7",
   "metadata": {},
   "source": [
    "Q6. Write a python program to print the first 10 Fibonacci numbers using a while loop."
   ]
  },
  {
   "cell_type": "code",
   "execution_count": 21,
   "id": "a3386cc4-a19e-4a55-a90b-e02d3cdfdaf0",
   "metadata": {},
   "outputs": [
    {
     "name": "stdout",
     "output_type": "stream",
     "text": [
      "0\n",
      "1\n",
      "1\n",
      "2\n",
      "3\n",
      "5\n",
      "8\n",
      "13\n",
      "21\n",
      "34\n"
     ]
    }
   ],
   "source": [
    "a,b=0,1\n",
    "i=0\n",
    "while i<10:\n",
    "    print(a)\n",
    "    c=a+b\n",
    "    a=b\n",
    "    b=c\n",
    "    i=i+1\n",
    "    "
   ]
  },
  {
   "cell_type": "markdown",
   "id": "016d4c74-da2d-4732-9d3a-3d2968d0e99f",
   "metadata": {},
   "source": [
    "Q7. Write a List Comprehension to iterate through the given string: ‘pwskills’.\n",
    "\n",
    "Expected output: ['p', 'w', 's', 'k', 'i', 'l', 'l', 's']"
   ]
  },
  {
   "cell_type": "code",
   "execution_count": 22,
   "id": "414c0eac-d89d-4283-af4f-c5f5a8652b1c",
   "metadata": {},
   "outputs": [],
   "source": [
    "s = \"pwskills\""
   ]
  },
  {
   "cell_type": "code",
   "execution_count": 23,
   "id": "a8b88c16-2425-42e6-8b95-f9d15fc0ada7",
   "metadata": {},
   "outputs": [
    {
     "data": {
      "text/plain": [
       "['p', 'w', 's', 'k', 'i', 'l', 'l', 's']"
      ]
     },
     "execution_count": 23,
     "metadata": {},
     "output_type": "execute_result"
    }
   ],
   "source": [
    "[i for i in s]"
   ]
  },
  {
   "cell_type": "markdown",
   "id": "a2f29a22-3e19-4cd5-a0aa-1bd3800d45d7",
   "metadata": {},
   "source": [
    "Q8. Write a python program to check whether a given number is Palindrome or not using a while loop."
   ]
  },
  {
   "cell_type": "markdown",
   "id": "ee7a93e5-7e48-4e34-b604-18024a639650",
   "metadata": {},
   "source": [
    "SOL :- A palindrome is nothing but any number or a string which remains unaltered when reversed."
   ]
  },
  {
   "cell_type": "code",
   "execution_count": 25,
   "id": "c5b4409f-082e-4962-be16-27dedd77de5f",
   "metadata": {},
   "outputs": [
    {
     "name": "stdin",
     "output_type": "stream",
     "text": [
      "enter your number: 3663\n"
     ]
    },
    {
     "name": "stdout",
     "output_type": "stream",
     "text": [
      "3663  is Palindrome number\n"
     ]
    }
   ],
   "source": [
    "i = int(input(\"enter your number:\"))\n",
    "rev=0\n",
    "x=i\n",
    "while i > 0:\n",
    "    rev = (rev*10)+ i % 10\n",
    "    i=i//10\n",
    "if x == rev:\n",
    "    print(rev ,\" is Palindrome number\")\n",
    "else :\n",
    "    print (rev ,\" is not Palindrome number\")"
   ]
  },
  {
   "cell_type": "markdown",
   "id": "8d92367b-a784-4fd3-81b9-f2929fc6294b",
   "metadata": {},
   "source": [
    "Q9. Write a code to print odd numbers from 1 to 100 using list comprehension.\n"
   ]
  },
  {
   "cell_type": "code",
   "execution_count": 26,
   "id": "7f953a9e-bbb5-43cb-afa2-d7019f5917b1",
   "metadata": {},
   "outputs": [],
   "source": [
    "x = list(range(1,101))"
   ]
  },
  {
   "cell_type": "code",
   "execution_count": 27,
   "id": "66864b1f-b74a-4b04-801a-6c71f46489bc",
   "metadata": {},
   "outputs": [
    {
     "data": {
      "text/plain": [
       "[1,\n",
       " 3,\n",
       " 5,\n",
       " 7,\n",
       " 9,\n",
       " 11,\n",
       " 13,\n",
       " 15,\n",
       " 17,\n",
       " 19,\n",
       " 21,\n",
       " 23,\n",
       " 25,\n",
       " 27,\n",
       " 29,\n",
       " 31,\n",
       " 33,\n",
       " 35,\n",
       " 37,\n",
       " 39,\n",
       " 41,\n",
       " 43,\n",
       " 45,\n",
       " 47,\n",
       " 49,\n",
       " 51,\n",
       " 53,\n",
       " 55,\n",
       " 57,\n",
       " 59,\n",
       " 61,\n",
       " 63,\n",
       " 65,\n",
       " 67,\n",
       " 69,\n",
       " 71,\n",
       " 73,\n",
       " 75,\n",
       " 77,\n",
       " 79,\n",
       " 81,\n",
       " 83,\n",
       " 85,\n",
       " 87,\n",
       " 89,\n",
       " 91,\n",
       " 93,\n",
       " 95,\n",
       " 97,\n",
       " 99]"
      ]
     },
     "execution_count": 27,
     "metadata": {},
     "output_type": "execute_result"
    }
   ],
   "source": [
    "[ i  for i in x if i % 2 !=0]"
   ]
  },
  {
   "cell_type": "code",
   "execution_count": null,
   "id": "5ddc8bb0-2a30-480f-bd1e-1c2335241e10",
   "metadata": {},
   "outputs": [],
   "source": []
  }
 ],
 "metadata": {
  "kernelspec": {
   "display_name": "Python 3 (ipykernel)",
   "language": "python",
   "name": "python3"
  },
  "language_info": {
   "codemirror_mode": {
    "name": "ipython",
    "version": 3
   },
   "file_extension": ".py",
   "mimetype": "text/x-python",
   "name": "python",
   "nbconvert_exporter": "python",
   "pygments_lexer": "ipython3",
   "version": "3.10.8"
  }
 },
 "nbformat": 4,
 "nbformat_minor": 5
}
